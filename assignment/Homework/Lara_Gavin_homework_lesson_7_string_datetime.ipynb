{
 "cells": [
  {
   "cell_type": "markdown",
   "id": "header",
   "metadata": {},
   "source": [
    "# Homework Assignment - Lesson 7: String Manipulation and Date/Time Data\n",
    "\n",
    "**Student Name:** Gavin Lara\n",
    "\n",
    "**Student ID:** 01985022\n",
    "\n",
    "**Date Submitted:** 10/13/2025\n",
    "\n",
    "**Due Date:** 10/12/2025\n",
    "\n",
    "---\n",
    "\n",
    "## Objective\n",
    "\n",
    "Master string manipulation with `stringr` and date/time operations with `lubridate` for real-world business data cleaning and analysis.\n",
    "\n",
    "## Learning Goals\n",
    "\n",
    "By completing this assignment, you will:\n",
    "- Clean and standardize messy text data using `stringr` functions\n",
    "- Parse and manipulate dates using `lubridate` functions\n",
    "- Extract information from text and dates for business insights\n",
    "- Combine string and date operations for customer segmentation\n",
    "- Create business-ready reports from raw data\n",
    "\n",
    "## Instructions\n",
    "\n",
    "- Complete all tasks in this notebook\n",
    "- Write your code in the designated TODO sections\n",
    "- Use the pipe operator (`%>%`) wherever possible\n",
    "- Add comments explaining your logic\n",
    "- Run all cells to verify your code works\n",
    "- Answer all reflection questions\n",
    "\n",
    "## Datasets\n",
    "\n",
    "You will work with three CSV files:\n",
    "- `customer_feedback.csv` - Customer reviews with messy text\n",
    "- `transaction_log.csv` - Transaction records with dates\n",
    "- `product_catalog.csv` - Product descriptions needing standardization\n",
    "\n",
    "---"
   ]
  },
  {
   "cell_type": "markdown",
   "id": "part1_intro",
   "metadata": {},
   "source": [
    "## Part 1: Data Import and Initial Exploration\n",
    "\n",
    "**Business Context:** Before cleaning data, you must understand its structure and quality issues.\n",
    "\n",
    "**Your Tasks:**\n",
    "1. Load required packages (`tidyverse` and `lubridate`)\n",
    "2. Import all three CSV files from the `data/` directory\n",
    "3. Examine the structure and identify data quality issues\n",
    "4. Display sample rows to understand the data"
   ]
  },
  {
   "cell_type": "code",
   "execution_count": 1,
   "id": "setup",
   "metadata": {
    "vscode": {
     "languageId": "r"
    }
   },
   "outputs": [
    {
     "name": "stderr",
     "output_type": "stream",
     "text": [
      "── \u001b[1mAttaching core tidyverse packages\u001b[22m ──────────────────────── tidyverse 2.0.0 ──\n",
      "\u001b[32m✔\u001b[39m \u001b[34mdplyr    \u001b[39m 1.1.4     \u001b[32m✔\u001b[39m \u001b[34mreadr    \u001b[39m 2.1.5\n",
      "\u001b[32m✔\u001b[39m \u001b[34mforcats  \u001b[39m 1.0.0     \u001b[32m✔\u001b[39m \u001b[34mstringr  \u001b[39m 1.5.1\n",
      "\u001b[32m✔\u001b[39m \u001b[34mggplot2  \u001b[39m 3.5.2     \u001b[32m✔\u001b[39m \u001b[34mtibble   \u001b[39m 3.3.0\n",
      "\u001b[32m✔\u001b[39m \u001b[34mlubridate\u001b[39m 1.9.4     \u001b[32m✔\u001b[39m \u001b[34mtidyr    \u001b[39m 1.3.1\n",
      "\u001b[32m✔\u001b[39m \u001b[34mpurrr    \u001b[39m 1.1.0     \n",
      "── \u001b[1mConflicts\u001b[22m ────────────────────────────────────────── tidyverse_conflicts() ──\n",
      "\u001b[31m✖\u001b[39m \u001b[34mdplyr\u001b[39m::\u001b[32mfilter()\u001b[39m masks \u001b[34mstats\u001b[39m::filter()\n",
      "\u001b[31m✖\u001b[39m \u001b[34mdplyr\u001b[39m::\u001b[32mlag()\u001b[39m    masks \u001b[34mstats\u001b[39m::lag()\n",
      "\u001b[36mℹ\u001b[39m Use the conflicted package (\u001b[3m\u001b[34m<http://conflicted.r-lib.org/>\u001b[39m\u001b[23m) to force all conflicts to become errors\n"
     ]
    },
    {
     "name": "stdout",
     "output_type": "stream",
     "text": [
      "✅ Packages loaded successfully!\n"
     ]
    }
   ],
   "source": [
    "# Task 1.1: Load Required Packages\n",
    "# TODO: Load tidyverse (includes stringr)\n",
    "library(tidyverse)\n",
    "\n",
    "# TODO: Load lubridate\n",
    "library(lubridate)\n",
    "\n",
    "cat(\"✅ Packages loaded successfully!\\n\")"
   ]
  },
  {
   "cell_type": "code",
   "execution_count": 2,
   "id": "import_data",
   "metadata": {
    "vscode": {
     "languageId": "r"
    }
   },
   "outputs": [
    {
     "name": "stderr",
     "output_type": "stream",
     "text": [
      "\u001b[1mRows: \u001b[22m\u001b[34m100\u001b[39m \u001b[1mColumns: \u001b[22m\u001b[34m5\u001b[39m\n",
      "\u001b[36m──\u001b[39m \u001b[1mColumn specification\u001b[22m \u001b[36m────────────────────────────────────────────────────────\u001b[39m\n",
      "\u001b[1mDelimiter:\u001b[22m \",\"\n",
      "\u001b[31mchr\u001b[39m  (2): Feedback_Text, Contact_Info\n",
      "\u001b[32mdbl\u001b[39m  (2): FeedbackID, CustomerID\n",
      "\u001b[34mdate\u001b[39m (1): Feedback_Date\n",
      "\n",
      "\u001b[36mℹ\u001b[39m Use `spec()` to retrieve the full column specification for this data.\n",
      "\u001b[36mℹ\u001b[39m Specify the column types or set `show_col_types = FALSE` to quiet this message.\n",
      "\u001b[1mRows: \u001b[22m\u001b[34m150\u001b[39m \u001b[1mColumns: \u001b[22m\u001b[34m5\u001b[39m\n",
      "\u001b[36m──\u001b[39m \u001b[1mColumn specification\u001b[22m \u001b[36m────────────────────────────────────────────────────────\u001b[39m\n",
      "\u001b[1mDelimiter:\u001b[22m \",\"\n",
      "\u001b[31mchr\u001b[39m (2): Transaction_DateTime, Status\n",
      "\u001b[32mdbl\u001b[39m (3): LogID, CustomerID, Amount\n",
      "\n",
      "\u001b[36mℹ\u001b[39m Use `spec()` to retrieve the full column specification for this data.\n",
      "\u001b[36mℹ\u001b[39m Specify the column types or set `show_col_types = FALSE` to quiet this message.\n",
      "\u001b[1mRows: \u001b[22m\u001b[34m75\u001b[39m \u001b[1mColumns: \u001b[22m\u001b[34m5\u001b[39m\n",
      "\u001b[36m──\u001b[39m \u001b[1mColumn specification\u001b[22m \u001b[36m────────────────────────────────────────────────────────\u001b[39m\n",
      "\u001b[1mDelimiter:\u001b[22m \",\"\n",
      "\u001b[31mchr\u001b[39m (3): Product_Description, Category, In_Stock\n",
      "\u001b[32mdbl\u001b[39m (2): ProductID, Price\n",
      "\n",
      "\u001b[36mℹ\u001b[39m Use `spec()` to retrieve the full column specification for this data.\n",
      "\u001b[36mℹ\u001b[39m Specify the column types or set `show_col_types = FALSE` to quiet this message.\n"
     ]
    },
    {
     "name": "stdout",
     "output_type": "stream",
     "text": [
      "✅ Data imported successfully!\n",
      "Feedback rows: 100 \n",
      "Transaction rows: 150 \n",
      "Product rows: 75 \n"
     ]
    }
   ],
   "source": [
    "# Task 1.2: Import Datasets\n",
    "# TODO: Import customer_feedback.csv into a variable called 'feedback'\n",
    "feedback <- read_csv(\"../../data/customer_feedback.csv\")\n",
    "\n",
    "# TODO: Import transaction_log.csv into a variable called 'transactions'\n",
    "transactions <- read_csv(\"../../data/transaction_log.csv\")\n",
    "\n",
    "# TODO: Import product_catalog.csv into a variable called 'products'\n",
    "products <- read_csv(\"../../data/product_catalog.csv\")\n",
    "\n",
    "cat(\"✅ Data imported successfully!\\n\")\n",
    "cat(\"Feedback rows:\", nrow(feedback), \"\\n\")\n",
    "cat(\"Transaction rows:\", nrow(transactions), \"\\n\")\n",
    "cat(\"Product rows:\", nrow(products), \"\\n\")"
   ]
  },
  {
   "cell_type": "code",
   "execution_count": 3,
   "id": "explore_data",
   "metadata": {
    "vscode": {
     "languageId": "r"
    }
   },
   "outputs": [
    {
     "name": "stdout",
     "output_type": "stream",
     "text": [
      "=== CUSTOMER FEEDBACK DATA ===\n"
     ]
    },
    {
     "name": "stdout",
     "output_type": "stream",
     "text": [
      "spc_tbl_ [100 × 5] (S3: spec_tbl_df/tbl_df/tbl/data.frame)\n",
      " $ FeedbackID   : num [1:100] 1 2 3 4 5 6 7 8 9 10 ...\n",
      " $ CustomerID   : num [1:100] 12 40 34 1 47 13 13 37 49 23 ...\n",
      " $ Feedback_Text: chr [1:100] \"Highly recommend this item\" \"Excellent service\" \"Poor quality control\" \"average product, nothing special\" ...\n",
      " $ Contact_Info : chr [1:100] \"bob.wilson@test.org\" \"555-123-4567\" \"jane_smith@company.com\" \"jane_smith@company.com\" ...\n",
      " $ Feedback_Date: Date[1:100], format: \"2024-02-23\" \"2024-01-21\" ...\n",
      " - attr(*, \"spec\")=\n",
      "  .. cols(\n",
      "  ..   FeedbackID = \u001b[32mcol_double()\u001b[39m,\n",
      "  ..   CustomerID = \u001b[32mcol_double()\u001b[39m,\n",
      "  ..   Feedback_Text = \u001b[31mcol_character()\u001b[39m,\n",
      "  ..   Contact_Info = \u001b[31mcol_character()\u001b[39m,\n",
      "  ..   Feedback_Date = \u001b[34mcol_date(format = \"\")\u001b[39m\n",
      "  .. )\n",
      " - attr(*, \"problems\")=<externalptr> \n",
      "\u001b[90m# A tibble: 5 × 5\u001b[39m\n",
      "  FeedbackID CustomerID Feedback_Text                 Contact_Info Feedback_Date\n",
      "       \u001b[3m\u001b[90m<dbl>\u001b[39m\u001b[23m      \u001b[3m\u001b[90m<dbl>\u001b[39m\u001b[23m \u001b[3m\u001b[90m<chr>\u001b[39m\u001b[23m                         \u001b[3m\u001b[90m<chr>\u001b[39m\u001b[23m        \u001b[3m\u001b[90m<date>\u001b[39m\u001b[23m       \n",
      "\u001b[90m1\u001b[39m          1         12 Highly recommend this item    bob.wilson@… 2024-02-23   \n",
      "\u001b[90m2\u001b[39m          2         40 Excellent service             555-123-4567 2024-01-21   \n",
      "\u001b[90m3\u001b[39m          3         34 Poor quality control          jane_smith@… 2023-09-02   \n",
      "\u001b[90m4\u001b[39m          4          1 average product, nothing spe… jane_smith@… 2023-08-21   \n",
      "\u001b[90m5\u001b[39m          5         47 AMAZING customer support!!!   555-123-4567 2023-04-24   \n",
      "\n",
      "=== TRANSACTION DATA ===\n",
      "spc_tbl_ [150 × 5] (S3: spec_tbl_df/tbl_df/tbl/data.frame)\n",
      " $ LogID               : num [1:150] 1 2 3 4 5 6 7 8 9 10 ...\n",
      " $ CustomerID          : num [1:150] 26 21 12 6 32 27 31 30 31 13 ...\n",
      " $ Transaction_DateTime: chr [1:150] \"4/5/24 14:30\" \"3/15/24 14:30\" \"3/15/24 14:30\" \"3/20/24 9:15\" ...\n",
      " $ Amount              : num [1:150] 277 175 252 215 269 ...\n",
      " $ Status              : chr [1:150] \"Pending\" \"Pending\" \"Pending\" \"Pending\" ...\n",
      " - attr(*, \"spec\")=\n",
      "  .. cols(\n",
      "  ..   LogID = \u001b[32mcol_double()\u001b[39m,\n",
      "  ..   CustomerID = \u001b[32mcol_double()\u001b[39m,\n",
      "  ..   Transaction_DateTime = \u001b[31mcol_character()\u001b[39m,\n",
      "  ..   Amount = \u001b[32mcol_double()\u001b[39m,\n",
      "  ..   Status = \u001b[31mcol_character()\u001b[39m\n",
      "  .. )\n",
      " - attr(*, \"problems\")=<externalptr> \n",
      "\u001b[90m# A tibble: 5 × 5\u001b[39m\n",
      "  LogID CustomerID Transaction_DateTime Amount Status   \n",
      "  \u001b[3m\u001b[90m<dbl>\u001b[39m\u001b[23m      \u001b[3m\u001b[90m<dbl>\u001b[39m\u001b[23m \u001b[3m\u001b[90m<chr>\u001b[39m\u001b[23m                 \u001b[3m\u001b[90m<dbl>\u001b[39m\u001b[23m \u001b[3m\u001b[90m<chr>\u001b[39m\u001b[23m    \n",
      "\u001b[90m1\u001b[39m     1         26 4/5/24 14:30           277. Pending  \n",
      "\u001b[90m2\u001b[39m     2         21 3/15/24 14:30          175. Pending  \n",
      "\u001b[90m3\u001b[39m     3         12 3/15/24 14:30          252. Pending  \n",
      "\u001b[90m4\u001b[39m     4          6 3/20/24 9:15           215. Pending  \n",
      "\u001b[90m5\u001b[39m     5         32 3/20/24 9:15           269. Completed\n",
      "\n",
      "=== PRODUCT CATALOG DATA ===\n",
      "spc_tbl_ [75 × 5] (S3: spec_tbl_df/tbl_df/tbl/data.frame)\n",
      " $ ProductID          : num [1:75] 1 2 3 4 5 6 7 8 9 10 ...\n",
      " $ Product_Description: chr [1:75] \"Apple iPhone 14 Pro - 128GB - Space Black\" \"samsung galaxy s23 ultra 256gb\" \"Apple iPhone 14 Pro - 128GB - Space Black\" \"Apple iPhone 14 Pro - 128GB - Space Black\" ...\n",
      " $ Category           : chr [1:75] \"TV\" \"TV\" \"Audio\" \"Shoes\" ...\n",
      " $ Price              : num [1:75] 964 1817 853 649 586 ...\n",
      " $ In_Stock           : chr [1:75] \"Limited\" \"Yes\" \"Yes\" \"Yes\" ...\n",
      " - attr(*, \"spec\")=\n",
      "  .. cols(\n",
      "  ..   ProductID = \u001b[32mcol_double()\u001b[39m,\n",
      "  ..   Product_Description = \u001b[31mcol_character()\u001b[39m,\n",
      "  ..   Category = \u001b[31mcol_character()\u001b[39m,\n",
      "  ..   Price = \u001b[32mcol_double()\u001b[39m,\n",
      "  ..   In_Stock = \u001b[31mcol_character()\u001b[39m\n",
      "  .. )\n",
      " - attr(*, \"problems\")=<externalptr> \n",
      "\u001b[90m# A tibble: 5 × 5\u001b[39m\n",
      "  ProductID Product_Description                       Category    Price In_Stock\n",
      "      \u001b[3m\u001b[90m<dbl>\u001b[39m\u001b[23m \u001b[3m\u001b[90m<chr>\u001b[39m\u001b[23m                                     \u001b[3m\u001b[90m<chr>\u001b[39m\u001b[23m       \u001b[3m\u001b[90m<dbl>\u001b[39m\u001b[23m \u001b[3m\u001b[90m<chr>\u001b[39m\u001b[23m   \n",
      "\u001b[90m1\u001b[39m         1 Apple iPhone 14 Pro - 128GB - Space Black TV           964. Limited \n",
      "\u001b[90m2\u001b[39m         2 samsung galaxy s23 ultra 256gb            TV          \u001b[4m1\u001b[24m817. Yes     \n",
      "\u001b[90m3\u001b[39m         3 Apple iPhone 14 Pro - 128GB - Space Black Audio        853. Yes     \n",
      "\u001b[90m4\u001b[39m         4 Apple iPhone 14 Pro - 128GB - Space Black Shoes        649. Yes     \n",
      "\u001b[90m5\u001b[39m         5 samsung galaxy s23 ultra 256gb            Electronics  586. Limited \n"
     ]
    }
   ],
   "source": [
    "# Task 1.3: Initial Data Exploration\n",
    "\n",
    "cat(\"=== CUSTOMER FEEDBACK DATA ===\\n\")\n",
    "# Display structure of feedback using str()\n",
    "str(feedback)\n",
    "\n",
    "# Display first 5 rows of feedback\n",
    "print(head(feedback, 5))\n",
    "\n",
    "cat(\"\\n=== TRANSACTION DATA ===\\n\")\n",
    "# Display structure of transactions\n",
    "str(transactions)\n",
    "\n",
    "# Display first 5 rows of transactions\n",
    "print(head(transactions, 5))\n",
    "\n",
    "cat(\"\\n=== PRODUCT CATALOG DATA ===\\n\")\n",
    "# Display structure of products\n",
    "str(products)\n",
    "\n",
    "# Display first 5 rows of products\n",
    "print(head(products, 5))\n"
   ]
  },
  {
   "cell_type": "markdown",
   "id": "part2_intro",
   "metadata": {},
   "source": [
    "## Part 2: String Cleaning and Standardization\n",
    "\n",
    "**Business Context:** Product names and feedback text often have inconsistent formatting that prevents accurate analysis.\n",
    "\n",
    "**Your Tasks:**\n",
    "1. Clean product names (remove extra spaces, standardize case)\n",
    "2. Standardize product categories\n",
    "3. Clean customer feedback text\n",
    "4. Extract customer names from feedback\n",
    "\n",
    "**Key Functions:** `str_trim()`, `str_squish()`, `str_to_lower()`, `str_to_upper()`, `str_to_title()`"
   ]
  },
  {
   "cell_type": "code",
   "execution_count": 4,
   "id": "clean_products",
   "metadata": {
    "vscode": {
     "languageId": "r"
    }
   },
   "outputs": [
    {
     "ename": "ERROR",
     "evalue": "\u001b[1m\u001b[33mError\u001b[39m in `mutate()`:\u001b[22m\n\u001b[1m\u001b[22m\u001b[36mℹ\u001b[39m In argument: `product_name_clean =\n  str_to_title(str_trim(product_name))`.\n\u001b[1mCaused by error:\u001b[22m\n\u001b[33m!\u001b[39m object 'product_name' not found\n",
     "output_type": "error",
     "traceback": [
      "\u001b[1m\u001b[33mError\u001b[39m in `mutate()`:\u001b[22m\n\u001b[1m\u001b[22m\u001b[36mℹ\u001b[39m In argument: `product_name_clean =\n  str_to_title(str_trim(product_name))`.\n\u001b[1mCaused by error:\u001b[22m\n\u001b[33m!\u001b[39m object 'product_name' not found\nTraceback:\n",
      "1. mutate(., product_name_clean = str_to_title(str_trim(product_name)))",
      "2. mutate.data.frame(., product_name_clean = str_to_title(str_trim(product_name)))",
      "3. mutate_cols(.data, dplyr_quosures(...), by)",
      "4. withCallingHandlers(for (i in seq_along(dots)) {\n .     poke_error_context(dots, i, mask = mask)\n .     context_poke(\"column\", old_current_column)\n .     new_columns <- mutate_col(dots[[i]], data, mask, new_columns)\n . }, error = dplyr_error_handler(dots = dots, mask = mask, bullets = mutate_bullets, \n .     error_call = error_call, error_class = \"dplyr:::mutate_error\"), \n .     warning = dplyr_warning_handler(state = warnings_state, mask = mask, \n .         error_call = error_call))",
      "5. mutate_col(dots[[i]], data, mask, new_columns)",
      "6. mask$eval_all_mutate(quo)",
      "7. eval()",
      "8. str_to_title(str_trim(product_name))",
      "9. stri_trans_totitle(string, opts_brkiter = stri_opts_brkiter(locale = locale))",
      "10. str_trim(product_name)",
      "11. stri_trim_both(string)",
      "12. .handleSimpleError(function (cnd) \n  . {\n  .     local_error_context(dots, i = frame[[i_sym]], mask = mask)\n  .     if (inherits(cnd, \"dplyr:::internal_error\")) {\n  .         parent <- error_cnd(message = bullets(cnd))\n  .     }\n  .     else {\n  .         parent <- cnd\n  .     }\n  .     message <- c(cnd_bullet_header(action), i = if (has_active_group_context(mask)) cnd_bullet_cur_group_label())\n  .     abort(message, class = error_class, parent = parent, call = error_call)\n  . }, \"object 'product_name' not found\", base::quote(NULL))",
      "13. h(simpleError(msg, call))",
      "14. abort(message, class = error_class, parent = parent, call = error_call)",
      "15. signal_abort(cnd, .file)",
      "16. signalCondition(cnd)"
     ]
    }
   ],
   "source": [
    "# Task 2.1: Clean Product Names\n",
    "# TODO: Create a new column 'product_name_clean' that:\n",
    "#   - Removes leading/trailing whitespace using str_trim()\n",
    "#   - Converts to Title Case using str_to_title()\n",
    "\n",
    "products_clean <- products %>%\n",
    "  mutate(\n",
    "    product_name_clean = str_to_title(str_trim(product_name))\n",
    "  )\n",
    "\n",
    "# Display before and after\n",
    "cat(\"Product Name Cleaning Results:\\n\")\n",
    "products_clean %>%\n",
    "  select(product_name, product_name_clean) %>%\n",
    "  head(10) %>%\n",
    "  print()"
   ]
  },
  {
   "cell_type": "code",
   "execution_count": null,
   "id": "clean_categories",
   "metadata": {
    "vscode": {
     "languageId": "r"
    }
   },
   "outputs": [
    {
     "name": "stdout",
     "output_type": "stream",
     "text": [
      "\n",
      "Column names in products data:\n",
      "[1] \"ProductID\"           \"Product_Description\" \"Category\"           \n",
      "[4] \"Price\"               \"In_Stock\"           \n",
      "\n",
      "First few rows of products data:\n",
      "[1] \"ProductID\"           \"Product_Description\" \"Category\"           \n",
      "[4] \"Price\"               \"In_Stock\"           \n",
      "\n",
      "First few rows of products data:\n",
      "\u001b[90m# A tibble: 3 × 5\u001b[39m\n",
      "  ProductID Product_Description                       Category Price In_Stock\n",
      "      \u001b[3m\u001b[90m<dbl>\u001b[39m\u001b[23m \u001b[3m\u001b[90m<chr>\u001b[39m\u001b[23m                                     \u001b[3m\u001b[90m<chr>\u001b[39m\u001b[23m    \u001b[3m\u001b[90m<dbl>\u001b[39m\u001b[23m \u001b[3m\u001b[90m<chr>\u001b[39m\u001b[23m   \n",
      "\u001b[90m1\u001b[39m         1 Apple iPhone 14 Pro - 128GB - Space Black TV        964. Limited \n",
      "\u001b[90m2\u001b[39m         2 samsung galaxy s23 ultra 256gb            TV       \u001b[4m1\u001b[24m817. Yes     \n",
      "\u001b[90m3\u001b[39m         3 Apple iPhone 14 Pro - 128GB - Space Black Audio     853. Yes     \n",
      "\u001b[90m# A tibble: 3 × 5\u001b[39m\n",
      "  ProductID Product_Description                       Category Price In_Stock\n",
      "      \u001b[3m\u001b[90m<dbl>\u001b[39m\u001b[23m \u001b[3m\u001b[90m<chr>\u001b[39m\u001b[23m                                     \u001b[3m\u001b[90m<chr>\u001b[39m\u001b[23m    \u001b[3m\u001b[90m<dbl>\u001b[39m\u001b[23m \u001b[3m\u001b[90m<chr>\u001b[39m\u001b[23m   \n",
      "\u001b[90m1\u001b[39m         1 Apple iPhone 14 Pro - 128GB - Space Black TV        964. Limited \n",
      "\u001b[90m2\u001b[39m         2 samsung galaxy s23 ultra 256gb            TV       \u001b[4m1\u001b[24m817. Yes     \n",
      "\u001b[90m3\u001b[39m         3 Apple iPhone 14 Pro - 128GB - Space Black Audio     853. Yes     \n"
     ]
    }
   ],
   "source": [
    "# Task 2.2: Standardize Product Categories\n",
    "# TODO: Create a new column 'category_clean' that:\n",
    "#   - Converts category to Title Case\n",
    "#   - Removes any extra whitespace\n",
    "\n",
    "# DEBUG: Show column names and first few rows to help identify the correct category column\n",
    "cat(\"\\nColumn names in products data:\\n\")\n",
    "print(names(products))\n",
    "cat(\"\\nFirst few rows of products data:\\n\")\n",
    "print(head(products, 3))\n",
    "\n",
    "# (Comment out the rest of the code for now until the correct column is identified)\n",
    "# # Ensure products_clean exists (if not, create from products)\n",
    "# if (!exists(\"products_clean\")) {\n",
    "#   products_clean <- products\n",
    "# }\n",
    "#\n",
    "# # Use the correct column name for category (some datasets use 'category', others 'product_category')\n",
    "# category_col <- if (\"category\" %in% names(products_clean)) {\n",
    "#   \"category\"\n",
    "# } else if (\"product_category\" %in% names(products_clean)) {\n",
    "#   \"product_category\"\n",
    "# } else {\n",
    "#   stop(\"No category column found in products data.\")\n",
    "# }\n",
    "#\n",
    "# products_clean <- products_clean %>%\n",
    "#   mutate(\n",
    "#     category_clean = str_to_title(str_squish(.data[[category_col]]))\n",
    "#   )\n",
    "#\n",
    "# # Show unique categories before and after\n",
    "# cat(\"Original categories:\\n\")\n",
    "# print(unique(products[[category_col]]))\n",
    "#\n",
    "# cat(\"\\nCleaned categories:\\n\")\n",
    "# print(unique(products_clean$category_clean))"
   ]
  },
  {
   "cell_type": "code",
   "execution_count": null,
   "id": "clean_feedback",
   "metadata": {
    "vscode": {
     "languageId": "r"
    }
   },
   "outputs": [
    {
     "name": "stdout",
     "output_type": "stream",
     "text": [
      "\n",
      "Column names in feedback data:\n",
      "[1] \"FeedbackID\"    \"CustomerID\"    \"Feedback_Text\" \"Contact_Info\" \n",
      "[5] \"Feedback_Date\"\n",
      "\n",
      "First few rows of feedback data:\n",
      "[1] \"FeedbackID\"    \"CustomerID\"    \"Feedback_Text\" \"Contact_Info\" \n",
      "[5] \"Feedback_Date\"\n",
      "\n",
      "First few rows of feedback data:\n",
      "\u001b[90m# A tibble: 3 × 5\u001b[39m\n",
      "  FeedbackID CustomerID Feedback_Text              Contact_Info    Feedback_Date\n",
      "       \u001b[3m\u001b[90m<dbl>\u001b[39m\u001b[23m      \u001b[3m\u001b[90m<dbl>\u001b[39m\u001b[23m \u001b[3m\u001b[90m<chr>\u001b[39m\u001b[23m                      \u001b[3m\u001b[90m<chr>\u001b[39m\u001b[23m           \u001b[3m\u001b[90m<date>\u001b[39m\u001b[23m       \n",
      "\u001b[90m1\u001b[39m          1         12 Highly recommend this item bob.wilson@tes… 2024-02-23   \n",
      "\u001b[90m2\u001b[39m          2         40 Excellent service          555-123-4567    2024-01-21   \n",
      "\u001b[90m3\u001b[39m          3         34 Poor quality control       jane_smith@com… 2023-09-02   \n",
      "\u001b[90m# A tibble: 3 × 5\u001b[39m\n",
      "  FeedbackID CustomerID Feedback_Text              Contact_Info    Feedback_Date\n",
      "       \u001b[3m\u001b[90m<dbl>\u001b[39m\u001b[23m      \u001b[3m\u001b[90m<dbl>\u001b[39m\u001b[23m \u001b[3m\u001b[90m<chr>\u001b[39m\u001b[23m                      \u001b[3m\u001b[90m<chr>\u001b[39m\u001b[23m           \u001b[3m\u001b[90m<date>\u001b[39m\u001b[23m       \n",
      "\u001b[90m1\u001b[39m          1         12 Highly recommend this item bob.wilson@tes… 2024-02-23   \n",
      "\u001b[90m2\u001b[39m          2         40 Excellent service          555-123-4567    2024-01-21   \n",
      "\u001b[90m3\u001b[39m          3         34 Poor quality control       jane_smith@com… 2023-09-02   \n"
     ]
    }
   ],
   "source": [
    "# Task 2.3: Clean Customer Feedback Text\n",
    "# TODO: Create a new column 'feedback_clean' that:\n",
    "#   - Converts text to lowercase using str_to_lower()\n",
    "#   - Removes extra whitespace using str_squish()\n",
    "\n",
    "# DEBUG: Show column names and first few rows to help identify the correct feedback text column\n",
    "cat(\"\\nColumn names in feedback data:\\n\")\n",
    "print(names(feedback))\n",
    "cat(\"\\nFirst few rows of feedback data:\\n\")\n",
    "print(head(feedback, 3))\n",
    "\n",
    "# (Comment out the rest of the code for now until the correct column is identified)\n",
    "# feedback_clean <- feedback %>%\n",
    "#   mutate(\n",
    "#     feedback_clean = str_squish(str_to_lower(feedback_text))\n",
    "#   )\n",
    "#\n",
    "# # Display sample\n",
    "# cat(\"Feedback Cleaning Sample:\\n\")\n",
    "# feedback_clean %>%\n",
    "#   select(feedback_text, feedback_clean) %>%\n",
    "#   head(5) %>%\n",
    "#   print()"
   ]
  },
  {
   "cell_type": "markdown",
   "id": "part3_intro",
   "metadata": {},
   "source": [
    "## Part 3: Pattern Detection and Extraction\n",
    "\n",
    "**Business Context:** Identifying products with specific features and extracting specifications helps with inventory management and marketing.\n",
    "\n",
    "**Your Tasks:**\n",
    "1. Identify products with specific keywords (wireless, premium, gaming)\n",
    "2. Extract numerical specifications from product names\n",
    "3. Detect sentiment words in customer feedback\n",
    "4. Extract email addresses from feedback\n",
    "\n",
    "**Key Functions:** `str_detect()`, `str_extract()`, `str_count()`"
   ]
  },
  {
   "cell_type": "code",
   "execution_count": null,
   "id": "detect_features",
   "metadata": {
    "vscode": {
     "languageId": "r"
    }
   },
   "outputs": [
    {
     "name": "stdout",
     "output_type": "stream",
     "text": [
      "\n",
      "Column names in products_clean data:\n",
      "[1] \"ProductID\"           \"Product_Description\" \"Category\"           \n",
      "[4] \"Price\"               \"In_Stock\"           \n",
      "\n",
      "First few rows of products_clean data:\n",
      "[1] \"ProductID\"           \"Product_Description\" \"Category\"           \n",
      "[4] \"Price\"               \"In_Stock\"           \n",
      "\n",
      "First few rows of products_clean data:\n",
      "\u001b[90m# A tibble: 3 × 5\u001b[39m\n",
      "  ProductID Product_Description                       Category Price In_Stock\n",
      "      \u001b[3m\u001b[90m<dbl>\u001b[39m\u001b[23m \u001b[3m\u001b[90m<chr>\u001b[39m\u001b[23m                                     \u001b[3m\u001b[90m<chr>\u001b[39m\u001b[23m    \u001b[3m\u001b[90m<dbl>\u001b[39m\u001b[23m \u001b[3m\u001b[90m<chr>\u001b[39m\u001b[23m   \n",
      "\u001b[90m1\u001b[39m         1 Apple iPhone 14 Pro - 128GB - Space Black TV        964. Limited \n",
      "\u001b[90m2\u001b[39m         2 samsung galaxy s23 ultra 256gb            TV       \u001b[4m1\u001b[24m817. Yes     \n",
      "\u001b[90m3\u001b[39m         3 Apple iPhone 14 Pro - 128GB - Space Black Audio     853. Yes     \n",
      "\u001b[90m# A tibble: 3 × 5\u001b[39m\n",
      "  ProductID Product_Description                       Category Price In_Stock\n",
      "      \u001b[3m\u001b[90m<dbl>\u001b[39m\u001b[23m \u001b[3m\u001b[90m<chr>\u001b[39m\u001b[23m                                     \u001b[3m\u001b[90m<chr>\u001b[39m\u001b[23m    \u001b[3m\u001b[90m<dbl>\u001b[39m\u001b[23m \u001b[3m\u001b[90m<chr>\u001b[39m\u001b[23m   \n",
      "\u001b[90m1\u001b[39m         1 Apple iPhone 14 Pro - 128GB - Space Black TV        964. Limited \n",
      "\u001b[90m2\u001b[39m         2 samsung galaxy s23 ultra 256gb            TV       \u001b[4m1\u001b[24m817. Yes     \n",
      "\u001b[90m3\u001b[39m         3 Apple iPhone 14 Pro - 128GB - Space Black Audio     853. Yes     \n"
     ]
    }
   ],
   "source": [
    "# Task 3.1: Detect Product Features\n",
    "# TODO: Create three new columns:\n",
    "#   - is_wireless: TRUE if product name contains \"wireless\" (case-insensitive)\n",
    "#   - is_premium: TRUE if product name contains \"pro\", \"premium\", or \"deluxe\"\n",
    "#   - is_gaming: TRUE if product name contains \"gaming\" or \"gamer\"\n",
    "# Hint: Use str_detect() with str_to_lower() for case-insensitive matching\n",
    "# Hint: Use | (pipe) in regex for OR conditions\n",
    "\n",
    "# DEBUG: Show column names and first few rows to help identify the correct product name column\n",
    "cat(\"\\nColumn names in products_clean data:\\n\")\n",
    "print(names(products_clean))\n",
    "cat(\"\\nFirst few rows of products_clean data:\\n\")\n",
    "print(head(products_clean, 3))\n",
    "\n",
    "# (Comment out the rest of the code for now until the correct column is identified)\n",
    "# # Ensure product_name_clean exists in products_clean\n",
    "# # if (!\"product_name_clean\" %in% names(products_clean)) {\n",
    "# #   products_clean <- products_clean %>%\n",
    "# #     mutate(product_name_clean = str_to_title(str_trim(product_name)))\n",
    "# # }\n",
    "#\n",
    "# # products_clean <- products_clean %>%\n",
    "# #   mutate(\n",
    "# #     is_wireless = str_detect(str_to_lower(product_name_clean), \"wireless\"),\n",
    "# #     is_premium = str_detect(str_to_lower(product_name_clean), \"pro|premium|deluxe\"),\n",
    "# #     is_gaming = str_detect(str_to_lower(product_name_clean), \"gaming|gamer\")\n",
    "# #   )\n",
    "#\n",
    "# # Display results\n",
    "# # cat(\"Product Feature Detection:\\n\")\n",
    "# # products_clean %>%\n",
    "# #   select(product_name_clean, is_wireless, is_premium, is_gaming) %>%\n",
    "# #   head(10) %>%\n",
    "# #   print()\n",
    "#\n",
    "# # Summary statistics\n",
    "# # cat(\"\\nFeature Summary:\\n\")\n",
    "# # cat(\"Wireless products:\", sum(products_clean$is_wireless), \"\\n\")\n",
    "# # cat(\"Premium products:\", sum(products_clean$is_premium), \"\\n\")\n",
    "# # cat(\"Gaming products:\", sum(products_clean$is_gaming), \"\\n\")"
   ]
  },
  {
   "cell_type": "code",
   "execution_count": null,
   "id": "extract_specs",
   "metadata": {
    "vscode": {
     "languageId": "r"
    }
   },
   "outputs": [
    {
     "name": "stdout",
     "output_type": "stream",
     "text": [
      "\n",
      "Column names in products_clean data (before mutate):\n",
      "[1] \"ProductID\"           \"Product_Description\" \"Category\"           \n",
      "[4] \"Price\"               \"In_Stock\"           \n",
      "\n",
      "First few rows of products_clean data (before mutate):\n",
      "[1] \"ProductID\"           \"Product_Description\" \"Category\"           \n",
      "[4] \"Price\"               \"In_Stock\"           \n",
      "\n",
      "First few rows of products_clean data (before mutate):\n",
      "\u001b[90m# A tibble: 3 × 5\u001b[39m\n",
      "  ProductID Product_Description                       Category Price In_Stock\n",
      "      \u001b[3m\u001b[90m<dbl>\u001b[39m\u001b[23m \u001b[3m\u001b[90m<chr>\u001b[39m\u001b[23m                                     \u001b[3m\u001b[90m<chr>\u001b[39m\u001b[23m    \u001b[3m\u001b[90m<dbl>\u001b[39m\u001b[23m \u001b[3m\u001b[90m<chr>\u001b[39m\u001b[23m   \n",
      "\u001b[90m1\u001b[39m         1 Apple iPhone 14 Pro - 128GB - Space Black TV        964. Limited \n",
      "\u001b[90m2\u001b[39m         2 samsung galaxy s23 ultra 256gb            TV       \u001b[4m1\u001b[24m817. Yes     \n",
      "\u001b[90m3\u001b[39m         3 Apple iPhone 14 Pro - 128GB - Space Black Audio     853. Yes     \n",
      "\u001b[90m# A tibble: 3 × 5\u001b[39m\n",
      "  ProductID Product_Description                       Category Price In_Stock\n",
      "      \u001b[3m\u001b[90m<dbl>\u001b[39m\u001b[23m \u001b[3m\u001b[90m<chr>\u001b[39m\u001b[23m                                     \u001b[3m\u001b[90m<chr>\u001b[39m\u001b[23m    \u001b[3m\u001b[90m<dbl>\u001b[39m\u001b[23m \u001b[3m\u001b[90m<chr>\u001b[39m\u001b[23m   \n",
      "\u001b[90m1\u001b[39m         1 Apple iPhone 14 Pro - 128GB - Space Black TV        964. Limited \n",
      "\u001b[90m2\u001b[39m         2 samsung galaxy s23 ultra 256gb            TV       \u001b[4m1\u001b[24m817. Yes     \n",
      "\u001b[90m3\u001b[39m         3 Apple iPhone 14 Pro - 128GB - Space Black Audio     853. Yes     \n"
     ]
    }
   ],
   "source": [
    "# Task 3.2: Extract Product Specifications\n",
    "# TODO: Create a new column 'size_number' that extracts the first number from product_name_clean\n",
    "# Hint: Use str_extract() with pattern \"\\\\d+\" to match one or more digits\n",
    "\n",
    "# DEBUG: Show column names and first few rows to help identify the correct product name column\n",
    "cat(\"\\nColumn names in products_clean data (before mutate):\\n\")\n",
    "print(names(products_clean))\n",
    "cat(\"\\nFirst few rows of products_clean data (before mutate):\\n\")\n",
    "print(head(products_clean, 3))\n",
    "\n",
    "# Uncomment and run the code below after confirming the correct column name exists\n",
    "# products_clean <- products_clean %>%\n",
    "#   mutate(\n",
    "#     size_number = str_extract(product_name_clean, \"\\\\d+\")\n",
    "#   )\n",
    "\n",
    "# Display products with extracted sizes\n",
    "# cat(\"Extracted Product Specifications:\\n\")\n",
    "# products_clean %>%\n",
    "#   filter(!is.na(size_number)) %>%\n",
    "#   select(product_name_clean, size_number) %>%\n",
    "#   head(10) %>%\n",
    "#   print()"
   ]
  },
  {
   "cell_type": "code",
   "execution_count": null,
   "id": "sentiment_analysis",
   "metadata": {
    "vscode": {
     "languageId": "r"
    }
   },
   "outputs": [
    {
     "name": "stdout",
     "output_type": "stream",
     "text": [
      "\n",
      "Column names in feedback data (before mutate):\n",
      "[1] \"FeedbackID\"    \"CustomerID\"    \"Feedback_Text\" \"Contact_Info\" \n",
      "[5] \"Feedback_Date\"\n",
      "\n",
      "First few rows of feedback data (before mutate):\n",
      "[1] \"FeedbackID\"    \"CustomerID\"    \"Feedback_Text\" \"Contact_Info\" \n",
      "[5] \"Feedback_Date\"\n",
      "\n",
      "First few rows of feedback data (before mutate):\n",
      "\u001b[90m# A tibble: 3 × 5\u001b[39m\n",
      "  FeedbackID CustomerID Feedback_Text              Contact_Info    Feedback_Date\n",
      "       \u001b[3m\u001b[90m<dbl>\u001b[39m\u001b[23m      \u001b[3m\u001b[90m<dbl>\u001b[39m\u001b[23m \u001b[3m\u001b[90m<chr>\u001b[39m\u001b[23m                      \u001b[3m\u001b[90m<chr>\u001b[39m\u001b[23m           \u001b[3m\u001b[90m<date>\u001b[39m\u001b[23m       \n",
      "\u001b[90m1\u001b[39m          1         12 Highly recommend this item bob.wilson@tes… 2024-02-23   \n",
      "\u001b[90m2\u001b[39m          2         40 Excellent service          555-123-4567    2024-01-21   \n",
      "\u001b[90m3\u001b[39m          3         34 Poor quality control       jane_smith@com… 2023-09-02   \n",
      "\u001b[90m# A tibble: 3 × 5\u001b[39m\n",
      "  FeedbackID CustomerID Feedback_Text              Contact_Info    Feedback_Date\n",
      "       \u001b[3m\u001b[90m<dbl>\u001b[39m\u001b[23m      \u001b[3m\u001b[90m<dbl>\u001b[39m\u001b[23m \u001b[3m\u001b[90m<chr>\u001b[39m\u001b[23m                      \u001b[3m\u001b[90m<chr>\u001b[39m\u001b[23m           \u001b[3m\u001b[90m<date>\u001b[39m\u001b[23m       \n",
      "\u001b[90m1\u001b[39m          1         12 Highly recommend this item bob.wilson@tes… 2024-02-23   \n",
      "\u001b[90m2\u001b[39m          2         40 Excellent service          555-123-4567    2024-01-21   \n",
      "\u001b[90m3\u001b[39m          3         34 Poor quality control       jane_smith@com… 2023-09-02   \n"
     ]
    }
   ],
   "source": [
    "# Task 3.3: Simple Sentiment Analysis\n",
    "# TODO: Create three new columns:\n",
    "#   - positive_words: count of positive words (\"great\", \"excellent\", \"love\", \"amazing\")\n",
    "#   - negative_words: count of negative words (\"bad\", \"terrible\", \"hate\", \"awful\")\n",
    "#   - sentiment_score: positive_words - negative_words\n",
    "# Hint: Use str_count() to count pattern occurrences\n",
    "\n",
    "# DEBUG: Show column names and first few rows to help identify the correct feedback text column\n",
    "cat(\"\\nColumn names in feedback data (before mutate):\\n\")\n",
    "print(names(feedback))\n",
    "cat(\"\\nFirst few rows of feedback data (before mutate):\\n\")\n",
    "print(head(feedback, 3))\n",
    "\n",
    "# Uncomment and run the code below after confirming the correct column name exists\n",
    "# feedback_clean <- feedback %>%\n",
    "#   mutate(feedback_clean = str_squish(str_to_lower(feedback_text)))\n",
    "\n",
    "# feedback_clean <- feedback_clean %>%\n",
    "#   mutate(\n",
    "#     positive_words = str_count(feedback_clean, \"great|excellent|love|amazing\"),\n",
    "#     negative_words = str_count(feedback_clean, \"bad|terrible|hate|awful\"),\n",
    "#     sentiment_score = positive_words - negative_words\n",
    "#   )\n",
    "\n",
    "# Display sentiment analysis results\n",
    "# cat(\"Sentiment Analysis Results:\\n\")\n",
    "# feedback_clean %>%\n",
    "#   select(feedback_clean, positive_words, negative_words, sentiment_score) %>%\n",
    "#   head(10) %>%\n",
    "#   print()\n",
    "\n",
    "# Summary\n",
    "# cat(\"\\nOverall Sentiment Summary:\\n\")\n",
    "# cat(\"Average sentiment score:\", mean(feedback_clean$sentiment_score), \"\\n\")\n",
    "# cat(\"Positive reviews:\", sum(feedback_clean$sentiment_score > 0), \"\\n\")\n",
    "# cat(\"Negative reviews:\", sum(feedback_clean$sentiment_score < 0), \"\\n\")"
   ]
  },
  {
   "cell_type": "markdown",
   "id": "part4_intro",
   "metadata": {},
   "source": [
    "## Part 4: Date Parsing and Component Extraction\n",
    "\n",
    "**Business Context:** Transaction dates need to be parsed and analyzed to understand customer behavior patterns.\n",
    "\n",
    "**Your Tasks:**\n",
    "1. Parse transaction dates from text to Date objects\n",
    "2. Extract date components (year, month, day, weekday)\n",
    "3. Identify weekend vs weekday transactions\n",
    "4. Extract quarter and month names\n",
    "\n",
    "**Key Functions:** `ymd()`, `mdy()`, `dmy()`, `year()`, `month()`, `day()`, `wday()`, `quarter()`"
   ]
  },
  {
   "cell_type": "code",
   "execution_count": null,
   "id": "parse_dates",
   "metadata": {
    "vscode": {
     "languageId": "r"
    }
   },
   "outputs": [
    {
     "name": "stdout",
     "output_type": "stream",
     "text": [
      "\n",
      "Column names in transactions data (before mutate):\n",
      "[1] \"LogID\"                \"CustomerID\"           \"Transaction_DateTime\"\n",
      "[4] \"Amount\"               \"Status\"              \n",
      "\n",
      "First few rows of transactions data (before mutate):\n",
      "[1] \"LogID\"                \"CustomerID\"           \"Transaction_DateTime\"\n",
      "[4] \"Amount\"               \"Status\"              \n",
      "\n",
      "First few rows of transactions data (before mutate):\n",
      "\u001b[90m# A tibble: 3 × 5\u001b[39m\n",
      "  LogID CustomerID Transaction_DateTime Amount Status \n",
      "  \u001b[3m\u001b[90m<dbl>\u001b[39m\u001b[23m      \u001b[3m\u001b[90m<dbl>\u001b[39m\u001b[23m \u001b[3m\u001b[90m<chr>\u001b[39m\u001b[23m                 \u001b[3m\u001b[90m<dbl>\u001b[39m\u001b[23m \u001b[3m\u001b[90m<chr>\u001b[39m\u001b[23m  \n",
      "\u001b[90m1\u001b[39m     1         26 4/5/24 14:30           277. Pending\n",
      "\u001b[90m2\u001b[39m     2         21 3/15/24 14:30          175. Pending\n",
      "\u001b[90m3\u001b[39m     3         12 3/15/24 14:30          252. Pending\n",
      "\u001b[90m# A tibble: 3 × 5\u001b[39m\n",
      "  LogID CustomerID Transaction_DateTime Amount Status \n",
      "  \u001b[3m\u001b[90m<dbl>\u001b[39m\u001b[23m      \u001b[3m\u001b[90m<dbl>\u001b[39m\u001b[23m \u001b[3m\u001b[90m<chr>\u001b[39m\u001b[23m                 \u001b[3m\u001b[90m<dbl>\u001b[39m\u001b[23m \u001b[3m\u001b[90m<chr>\u001b[39m\u001b[23m  \n",
      "\u001b[90m1\u001b[39m     1         26 4/5/24 14:30           277. Pending\n",
      "\u001b[90m2\u001b[39m     2         21 3/15/24 14:30          175. Pending\n",
      "\u001b[90m3\u001b[39m     3         12 3/15/24 14:30          252. Pending\n"
     ]
    }
   ],
   "source": [
    "# Task 4.1: Parse Transaction Dates\n",
    "# TODO: Create a new column 'date_parsed' that parses the transaction_date column\n",
    "# Hint: Check the format of transaction_date first, then use ymd(), mdy(), or dmy()\n",
    "\n",
    "# DEBUG: Show column names and first few rows to help identify the correct date column\n",
    "cat(\"\\nColumn names in transactions data (before mutate):\\n\")\n",
    "print(names(transactions))\n",
    "cat(\"\\nFirst few rows of transactions data (before mutate):\\n\")\n",
    "print(head(transactions, 3))\n",
    "\n",
    "# Uncomment and run the code below after confirming the correct column name exists\n",
    "# transactions_clean <- transactions %>%\n",
    "#   mutate(\n",
    "#     date_parsed = ymd(transaction_date) # Change to mdy() or dmy() if needed\n",
    "#   )\n",
    "\n",
    "# Verify parsing worked\n",
    "# cat(\"Date Parsing Results:\\n\")\n",
    "# transactions_clean %>%\n",
    "#   select(transaction_date, date_parsed) %>%\n",
    "#   head(10) %>%\n",
    "#   print()"
   ]
  },
  {
   "cell_type": "code",
   "execution_count": null,
   "id": "extract_components",
   "metadata": {
    "vscode": {
     "languageId": "r"
    }
   },
   "outputs": [
    {
     "name": "stdout",
     "output_type": "stream",
     "text": [
      "\n",
      "Column names in transactions_clean data (before mutate):\n",
      "transactions_clean does not exist. Creating from transactions...\n",
      "[1] \"LogID\"                \"CustomerID\"           \"Transaction_DateTime\"\n",
      "[4] \"Amount\"               \"Status\"              \n",
      "\u001b[90m# A tibble: 3 × 5\u001b[39m\n",
      "  LogID CustomerID Transaction_DateTime Amount Status \n",
      "  \u001b[3m\u001b[90m<dbl>\u001b[39m\u001b[23m      \u001b[3m\u001b[90m<dbl>\u001b[39m\u001b[23m \u001b[3m\u001b[90m<chr>\u001b[39m\u001b[23m                 \u001b[3m\u001b[90m<dbl>\u001b[39m\u001b[23m \u001b[3m\u001b[90m<chr>\u001b[39m\u001b[23m  \n",
      "\u001b[90m1\u001b[39m     1         26 4/5/24 14:30           277. Pending\n",
      "\u001b[90m2\u001b[39m     2         21 3/15/24 14:30          175. Pending\n",
      "\u001b[90m3\u001b[39m     3         12 3/15/24 14:30          252. Pending\n",
      "transactions_clean does not exist. Creating from transactions...\n",
      "[1] \"LogID\"                \"CustomerID\"           \"Transaction_DateTime\"\n",
      "[4] \"Amount\"               \"Status\"              \n",
      "\u001b[90m# A tibble: 3 × 5\u001b[39m\n",
      "  LogID CustomerID Transaction_DateTime Amount Status \n",
      "  \u001b[3m\u001b[90m<dbl>\u001b[39m\u001b[23m      \u001b[3m\u001b[90m<dbl>\u001b[39m\u001b[23m \u001b[3m\u001b[90m<chr>\u001b[39m\u001b[23m                 \u001b[3m\u001b[90m<dbl>\u001b[39m\u001b[23m \u001b[3m\u001b[90m<chr>\u001b[39m\u001b[23m  \n",
      "\u001b[90m1\u001b[39m     1         26 4/5/24 14:30           277. Pending\n",
      "\u001b[90m2\u001b[39m     2         21 3/15/24 14:30          175. Pending\n",
      "\u001b[90m3\u001b[39m     3         12 3/15/24 14:30          252. Pending\n"
     ]
    }
   ],
   "source": [
    "# Task 4.2: Extract Date Components\n",
    "# TODO: Create the following new columns:\n",
    "#   - trans_year: Extract year from date_parsed\n",
    "#   - trans_month: Extract month number from date_parsed\n",
    "#   - trans_month_name: Extract month name (use label=TRUE, abbr=FALSE)\n",
    "#   - trans_day: Extract day of month from date_parsed\n",
    "#   - trans_weekday: Extract weekday name (use label=TRUE, abbr=FALSE)\n",
    "#   - trans_quarter: Extract quarter from date_parsed\n",
    "\n",
    "# DEBUG: Show column names and first few rows to help identify the correct date column\n",
    "cat(\"\\nColumn names in transactions_clean data (before mutate):\\n\")\n",
    "if (exists(\"transactions_clean\")) {\n",
    "  print(names(transactions_clean))\n",
    "  cat(\"\\nFirst few rows of transactions_clean data (before mutate):\\n\")\n",
    "  print(head(transactions_clean, 3))\n",
    "} else {\n",
    "  cat(\"transactions_clean does not exist. Creating from transactions...\\n\")\n",
    "  print(names(transactions))\n",
    "  print(head(transactions, 3))\n",
    "  transactions_clean <- transactions\n",
    "}\n",
    "\n",
    "# Uncomment and run the code below after confirming date_parsed exists\n",
    "# transactions_clean <- transactions_clean %>%\n",
    "#   mutate(\n",
    "#     trans_year = year(date_parsed),\n",
    "#     trans_month = month(date_parsed),\n",
    "#     trans_month_name = month(date_parsed, label = TRUE, abbr = FALSE),\n",
    "#     trans_day = day(date_parsed),\n",
    "#     trans_weekday = wday(date_parsed, label = TRUE, abbr = FALSE),\n",
    "#     trans_quarter = quarter(date_parsed)\n",
    "#   )\n",
    "\n",
    "# Display results\n",
    "# cat(\"Date Component Extraction:\\n\")\n",
    "# transactions_clean %>%\n",
    "#   select(date_parsed, trans_month_name, trans_weekday, trans_quarter) %>%\n",
    "#   head(10) %>%\n",
    "#   print()"
   ]
  },
  {
   "cell_type": "code",
   "execution_count": null,
   "id": "weekend_flag",
   "metadata": {
    "vscode": {
     "languageId": "r"
    }
   },
   "outputs": [
    {
     "name": "stdout",
     "output_type": "stream",
     "text": [
      "\n",
      "Column names in transactions_clean data (before mutate):\n",
      "[1] \"LogID\"                \"CustomerID\"           \"Transaction_DateTime\"\n",
      "[4] \"Amount\"               \"Status\"              \n",
      "\n",
      "First few rows of transactions_clean data (before mutate):\n",
      "[1] \"LogID\"                \"CustomerID\"           \"Transaction_DateTime\"\n",
      "[4] \"Amount\"               \"Status\"              \n",
      "\n",
      "First few rows of transactions_clean data (before mutate):\n",
      "\u001b[90m# A tibble: 3 × 5\u001b[39m\n",
      "  LogID CustomerID Transaction_DateTime Amount Status \n",
      "  \u001b[3m\u001b[90m<dbl>\u001b[39m\u001b[23m      \u001b[3m\u001b[90m<dbl>\u001b[39m\u001b[23m \u001b[3m\u001b[90m<chr>\u001b[39m\u001b[23m                 \u001b[3m\u001b[90m<dbl>\u001b[39m\u001b[23m \u001b[3m\u001b[90m<chr>\u001b[39m\u001b[23m  \n",
      "\u001b[90m1\u001b[39m     1         26 4/5/24 14:30           277. Pending\n",
      "\u001b[90m2\u001b[39m     2         21 3/15/24 14:30          175. Pending\n",
      "\u001b[90m3\u001b[39m     3         12 3/15/24 14:30          252. Pending\n",
      "\u001b[90m# A tibble: 3 × 5\u001b[39m\n",
      "  LogID CustomerID Transaction_DateTime Amount Status \n",
      "  \u001b[3m\u001b[90m<dbl>\u001b[39m\u001b[23m      \u001b[3m\u001b[90m<dbl>\u001b[39m\u001b[23m \u001b[3m\u001b[90m<chr>\u001b[39m\u001b[23m                 \u001b[3m\u001b[90m<dbl>\u001b[39m\u001b[23m \u001b[3m\u001b[90m<chr>\u001b[39m\u001b[23m  \n",
      "\u001b[90m1\u001b[39m     1         26 4/5/24 14:30           277. Pending\n",
      "\u001b[90m2\u001b[39m     2         21 3/15/24 14:30          175. Pending\n",
      "\u001b[90m3\u001b[39m     3         12 3/15/24 14:30          252. Pending\n"
     ]
    }
   ],
   "source": [
    "# Task 4.3: Identify Weekend Transactions\n",
    "# TODO: Create a new column 'is_weekend' that is TRUE if the transaction was on Saturday or Sunday\n",
    "# Hint: Use wday() which returns 1 for Sunday and 7 for Saturday\n",
    "# Hint: Use %in% c(1, 7) to check if day is weekend\n",
    "\n",
    "# DEBUG: Show column names and first few rows to help identify the correct date column\n",
    "cat(\"\\nColumn names in transactions_clean data (before mutate):\\n\")\n",
    "print(names(transactions_clean))\n",
    "cat(\"\\nFirst few rows of transactions_clean data (before mutate):\\n\")\n",
    "print(head(transactions_clean, 3))\n",
    "\n",
    "# If you see 'date_parsed' is missing, go back to Task 4.1 and create it first!\n",
    "# Uncomment and run the code below after confirming date_parsed exists\n",
    "# transactions_clean <- transactions_clean %>%\n",
    "#   mutate(\n",
    "#     is_weekend = wday(date_parsed) %in% c(1, 7)\n",
    "#   )\n",
    "\n",
    "# Summary\n",
    "# cat(\"Weekend vs Weekday Transactions:\\n\")\n",
    "# if (\"is_weekend\" %in% names(transactions_clean)) {\n",
    "#   table(transactions_clean$is_weekend) %>% print()\n",
    "#   cat(\"\\nPercentage of weekend transactions:\",\n",
    "#       round(sum(transactions_clean$is_weekend) / nrow(transactions_clean) * 100, 1), \"%\\n\")\n",
    "# } else {\n",
    "#   cat(\"Column 'is_weekend' not found. Please create it above.\\n\")\n",
    "# }"
   ]
  },
  {
   "cell_type": "markdown",
   "id": "part5_intro",
   "metadata": {},
   "source": [
    "## Part 5: Date Calculations and Customer Recency Analysis\n",
    "\n",
    "**Business Context:** Understanding how recently customers transacted helps identify at-risk customers for re-engagement campaigns.\n",
    "\n",
    "**Your Tasks:**\n",
    "1. Calculate days since each transaction\n",
    "2. Categorize customers by recency (Recent, Moderate, Old)\n",
    "3. Identify customers who haven't transacted in 90+ days\n",
    "4. Calculate average days between transactions per customer\n",
    "\n",
    "**Key Functions:** `today()`, date arithmetic, `case_when()`"
   ]
  },
  {
   "cell_type": "code",
   "execution_count": null,
   "id": "calculate_recency",
   "metadata": {
    "vscode": {
     "languageId": "r"
    }
   },
   "outputs": [
    {
     "name": "stdout",
     "output_type": "stream",
     "text": [
      "\n",
      "Column names in transactions_clean data (before mutate):\n",
      "[1] \"LogID\"                \"CustomerID\"           \"Transaction_DateTime\"\n",
      "[4] \"Amount\"               \"Status\"              \n",
      "\n",
      "First few rows of transactions_clean data (before mutate):\n",
      "[1] \"LogID\"                \"CustomerID\"           \"Transaction_DateTime\"\n",
      "[4] \"Amount\"               \"Status\"              \n",
      "\n",
      "First few rows of transactions_clean data (before mutate):\n",
      "\u001b[90m# A tibble: 3 × 5\u001b[39m\n",
      "  LogID CustomerID Transaction_DateTime Amount Status \n",
      "  \u001b[3m\u001b[90m<dbl>\u001b[39m\u001b[23m      \u001b[3m\u001b[90m<dbl>\u001b[39m\u001b[23m \u001b[3m\u001b[90m<chr>\u001b[39m\u001b[23m                 \u001b[3m\u001b[90m<dbl>\u001b[39m\u001b[23m \u001b[3m\u001b[90m<chr>\u001b[39m\u001b[23m  \n",
      "\u001b[90m1\u001b[39m     1         26 4/5/24 14:30           277. Pending\n",
      "\u001b[90m2\u001b[39m     2         21 3/15/24 14:30          175. Pending\n",
      "\u001b[90m3\u001b[39m     3         12 3/15/24 14:30          252. Pending\n",
      "\u001b[90m# A tibble: 3 × 5\u001b[39m\n",
      "  LogID CustomerID Transaction_DateTime Amount Status \n",
      "  \u001b[3m\u001b[90m<dbl>\u001b[39m\u001b[23m      \u001b[3m\u001b[90m<dbl>\u001b[39m\u001b[23m \u001b[3m\u001b[90m<chr>\u001b[39m\u001b[23m                 \u001b[3m\u001b[90m<dbl>\u001b[39m\u001b[23m \u001b[3m\u001b[90m<chr>\u001b[39m\u001b[23m  \n",
      "\u001b[90m1\u001b[39m     1         26 4/5/24 14:30           277. Pending\n",
      "\u001b[90m2\u001b[39m     2         21 3/15/24 14:30          175. Pending\n",
      "\u001b[90m3\u001b[39m     3         12 3/15/24 14:30          252. Pending\n"
     ]
    }
   ],
   "source": [
    "# Task 5.1: Calculate Days Since Transaction\n",
    "# TODO: Create a new column 'days_since' that calculates days from date_parsed to today()\n",
    "# Hint: Use as.numeric(today() - date_parsed)\n",
    "\n",
    "# DEBUG: Show column names and first few rows to help identify the correct date column\n",
    "cat(\"\\nColumn names in transactions_clean data (before mutate):\\n\")\n",
    "print(names(transactions_clean))\n",
    "cat(\"\\nFirst few rows of transactions_clean data (before mutate):\\n\")\n",
    "print(head(transactions_clean, 3))\n",
    "\n",
    "# If you see 'date_parsed' is missing, go back to Task 4.1 and create it first!\n",
    "# Uncomment and run the code below after confirming date_parsed exists\n",
    "# transactions_clean <- transactions_clean %>%\n",
    "#   mutate(\n",
    "#     days_since = as.numeric(today() - date_parsed)\n",
    "#   )\n",
    "\n",
    "# Display results\n",
    "# cat(\"Days Since Transaction:\\n\")\n",
    "# if (\"days_since\" %in% names(transactions_clean)) {\n",
    "#   transactions_clean %>%\n",
    "#     select(customer_name, date_parsed, days_since) %>%\n",
    "#     arrange(desc(days_since)) %>%\n",
    "#     head(10) %>%\n",
    "#     print()\n",
    "# } else {\n",
    "#   cat(\"Column 'days_since' not found. Please create it above.\\n\")\n",
    "# }"
   ]
  },
  {
   "cell_type": "code",
   "execution_count": null,
   "id": "recency_categories",
   "metadata": {
    "vscode": {
     "languageId": "r"
    }
   },
   "outputs": [
    {
     "name": "stdout",
     "output_type": "stream",
     "text": [
      "\n",
      "Column names in transactions_clean data (before mutate):\n",
      "[1] \"LogID\"                \"CustomerID\"           \"Transaction_DateTime\"\n",
      "[4] \"Amount\"               \"Status\"              \n",
      "\n",
      "First few rows of transactions_clean data (before mutate):\n",
      "[1] \"LogID\"                \"CustomerID\"           \"Transaction_DateTime\"\n",
      "[4] \"Amount\"               \"Status\"              \n",
      "\n",
      "First few rows of transactions_clean data (before mutate):\n",
      "\u001b[90m# A tibble: 3 × 5\u001b[39m\n",
      "  LogID CustomerID Transaction_DateTime Amount Status \n",
      "  \u001b[3m\u001b[90m<dbl>\u001b[39m\u001b[23m      \u001b[3m\u001b[90m<dbl>\u001b[39m\u001b[23m \u001b[3m\u001b[90m<chr>\u001b[39m\u001b[23m                 \u001b[3m\u001b[90m<dbl>\u001b[39m\u001b[23m \u001b[3m\u001b[90m<chr>\u001b[39m\u001b[23m  \n",
      "\u001b[90m1\u001b[39m     1         26 4/5/24 14:30           277. Pending\n",
      "\u001b[90m2\u001b[39m     2         21 3/15/24 14:30          175. Pending\n",
      "\u001b[90m3\u001b[39m     3         12 3/15/24 14:30          252. Pending\n",
      "\u001b[90m# A tibble: 3 × 5\u001b[39m\n",
      "  LogID CustomerID Transaction_DateTime Amount Status \n",
      "  \u001b[3m\u001b[90m<dbl>\u001b[39m\u001b[23m      \u001b[3m\u001b[90m<dbl>\u001b[39m\u001b[23m \u001b[3m\u001b[90m<chr>\u001b[39m\u001b[23m                 \u001b[3m\u001b[90m<dbl>\u001b[39m\u001b[23m \u001b[3m\u001b[90m<chr>\u001b[39m\u001b[23m  \n",
      "\u001b[90m1\u001b[39m     1         26 4/5/24 14:30           277. Pending\n",
      "\u001b[90m2\u001b[39m     2         21 3/15/24 14:30          175. Pending\n",
      "\u001b[90m3\u001b[39m     3         12 3/15/24 14:30          252. Pending\n"
     ]
    }
   ],
   "source": [
    "# Task 5.2: Categorize by Recency\n",
    "# TODO: Create a new column 'recency_category' using case_when():\n",
    "#   - \"Recent\" if days_since <= 30\n",
    "#   - \"Moderate\" if days_since <= 90\n",
    "#   - \"At Risk\" if days_since > 90\n",
    "\n",
    "# DEBUG: Show column names and first few rows to help identify the correct days_since column\n",
    "cat(\"\\nColumn names in transactions_clean data (before mutate):\\n\")\n",
    "print(names(transactions_clean))\n",
    "cat(\"\\nFirst few rows of transactions_clean data (before mutate):\\n\")\n",
    "print(head(transactions_clean, 3))\n",
    "\n",
    "# If you see 'days_since' is missing, go back to Task 5.1 and create it first!\n",
    "# Uncomment and run the code below after confirming days_since exists\n",
    "# transactions_clean <- transactions_clean %>%\n",
    "#   mutate(\n",
    "#     recency_category = case_when(\n",
    "#       days_since <= 30 ~ \"Recent\",\n",
    "#       days_since <= 90 ~ \"Moderate\",\n",
    "#       days_since > 90 ~ \"At Risk\"\n",
    "#     )\n",
    "#   )\n",
    "\n",
    "# Display distribution\n",
    "# cat(\"Recency Category Distribution:\\n\")\n",
    "# if (\"recency_category\" %in% names(transactions_clean)) {\n",
    "#   table(transactions_clean$recency_category) %>% print()\n",
    "#   cat(\"\\nAt-Risk Customers (>90 days):\\n\")\n",
    "#   transactions_clean %>%\n",
    "#     filter(recency_category == \"At Risk\") %>%\n",
    "#     select(customer_name, date_parsed, days_since) %>%\n",
    "#     arrange(desc(days_since)) %>%\n",
    "#     print()\n",
    "# } else {\n",
    "#   cat(\"Column 'recency_category' not found. Please create it above.\\n\")\n",
    "# }"
   ]
  },
  {
   "cell_type": "markdown",
   "id": "part6_intro",
   "metadata": {},
   "source": [
    "## Part 6: Combined String and Date Operations\n",
    "\n",
    "**Business Context:** Create personalized customer outreach messages based on purchase recency.\n",
    "\n",
    "**Your Tasks:**\n",
    "1. Extract first names from customer names\n",
    "2. Create personalized messages based on recency\n",
    "3. Analyze transaction patterns by weekday\n",
    "4. Identify best customers (recent + high value)\n",
    "\n",
    "**Key Functions:** Combine `str_extract()`, date calculations, `case_when()`, `group_by()`, `summarize()`"
   ]
  },
  {
   "cell_type": "code",
   "execution_count": null,
   "id": "extract_names",
   "metadata": {
    "vscode": {
     "languageId": "r"
    }
   },
   "outputs": [
    {
     "name": "stdout",
     "output_type": "stream",
     "text": [
      "\n",
      "Column names in transactions_clean data (before mutate):\n",
      "[1] \"LogID\"                \"CustomerID\"           \"Transaction_DateTime\"\n",
      "[4] \"Amount\"               \"Status\"              \n",
      "\n",
      "First few rows of transactions_clean data (before mutate):\n",
      "[1] \"LogID\"                \"CustomerID\"           \"Transaction_DateTime\"\n",
      "[4] \"Amount\"               \"Status\"              \n",
      "\n",
      "First few rows of transactions_clean data (before mutate):\n",
      "\u001b[90m# A tibble: 3 × 5\u001b[39m\n",
      "  LogID CustomerID Transaction_DateTime Amount Status \n",
      "  \u001b[3m\u001b[90m<dbl>\u001b[39m\u001b[23m      \u001b[3m\u001b[90m<dbl>\u001b[39m\u001b[23m \u001b[3m\u001b[90m<chr>\u001b[39m\u001b[23m                 \u001b[3m\u001b[90m<dbl>\u001b[39m\u001b[23m \u001b[3m\u001b[90m<chr>\u001b[39m\u001b[23m  \n",
      "\u001b[90m1\u001b[39m     1         26 4/5/24 14:30           277. Pending\n",
      "\u001b[90m2\u001b[39m     2         21 3/15/24 14:30          175. Pending\n",
      "\u001b[90m3\u001b[39m     3         12 3/15/24 14:30          252. Pending\n",
      "\u001b[90m# A tibble: 3 × 5\u001b[39m\n",
      "  LogID CustomerID Transaction_DateTime Amount Status \n",
      "  \u001b[3m\u001b[90m<dbl>\u001b[39m\u001b[23m      \u001b[3m\u001b[90m<dbl>\u001b[39m\u001b[23m \u001b[3m\u001b[90m<chr>\u001b[39m\u001b[23m                 \u001b[3m\u001b[90m<dbl>\u001b[39m\u001b[23m \u001b[3m\u001b[90m<chr>\u001b[39m\u001b[23m  \n",
      "\u001b[90m1\u001b[39m     1         26 4/5/24 14:30           277. Pending\n",
      "\u001b[90m2\u001b[39m     2         21 3/15/24 14:30          175. Pending\n",
      "\u001b[90m3\u001b[39m     3         12 3/15/24 14:30          252. Pending\n"
     ]
    }
   ],
   "source": [
    "# Task 6.1: Extract First Names and Create Personalized Messages\n",
    "# DEBUG: Show column names and first few rows to help identify the correct customer name column\n",
    "cat(\"\\nColumn names in transactions_clean data (before mutate):\\n\")\n",
    "print(names(transactions_clean))\n",
    "cat(\"\\nFirst few rows of transactions_clean data (before mutate):\\n\")\n",
    "print(head(transactions_clean, 3))\n",
    "\n",
    "# If you see 'customer_name' is missing, check your data or use the correct column name!\n",
    "# Uncomment and update the code below after confirming the correct column name exists\n",
    "# customer_outreach <- transactions_clean %>%\n",
    "#   mutate(\n",
    "#     first_name = str_extract(customer_name, \"^\\\\w+\"),\n",
    "#     personalized_message = case_when(\n",
    "#       recency_category == \"Recent\" ~ paste0(\"Hi \", first_name, \"! Thanks for your recent purchase!\"),\n",
    "#       recency_category == \"Moderate\" ~ paste0(\"Hi \", first_name, \", we miss you! Check out our new products.\"),\n",
    "#       recency_category == \"At Risk\" ~ paste0(\"Hi \", first_name, \", it's been a while! Here's a special offer for you.\"),\n",
    "#       TRUE ~ paste0(\"Hi \", first_name, \"!\")\n",
    "#     )\n",
    "#   )\n",
    "\n",
    "# Display personalized messages\n",
    "# cat(\"Personalized Customer Messages:\\n\")\n",
    "# customer_outreach %>%\n",
    "#   select(customer_name, first_name, days_since, personalized_message) %>%\n",
    "#   head(10) %>%\n",
    "#   print()"
   ]
  },
  {
   "cell_type": "code",
   "execution_count": null,
   "id": "weekday_analysis",
   "metadata": {
    "vscode": {
     "languageId": "r"
    }
   },
   "outputs": [
    {
     "name": "stdout",
     "output_type": "stream",
     "text": [
      "\n",
      "Column names in transactions_clean data:\n",
      "[1] \"LogID\"                \"CustomerID\"           \"Transaction_DateTime\"\n",
      "[4] \"Amount\"               \"Status\"              \n",
      "\n",
      "First few rows of transactions_clean data:\n",
      "[1] \"LogID\"                \"CustomerID\"           \"Transaction_DateTime\"\n",
      "[4] \"Amount\"               \"Status\"              \n",
      "\n",
      "First few rows of transactions_clean data:\n",
      "\u001b[90m# A tibble: 3 × 5\u001b[39m\n",
      "  LogID CustomerID Transaction_DateTime Amount Status \n",
      "  \u001b[3m\u001b[90m<dbl>\u001b[39m\u001b[23m      \u001b[3m\u001b[90m<dbl>\u001b[39m\u001b[23m \u001b[3m\u001b[90m<chr>\u001b[39m\u001b[23m                 \u001b[3m\u001b[90m<dbl>\u001b[39m\u001b[23m \u001b[3m\u001b[90m<chr>\u001b[39m\u001b[23m  \n",
      "\u001b[90m1\u001b[39m     1         26 4/5/24 14:30           277. Pending\n",
      "\u001b[90m2\u001b[39m     2         21 3/15/24 14:30          175. Pending\n",
      "\u001b[90m3\u001b[39m     3         12 3/15/24 14:30          252. Pending\n",
      "\u001b[90m# A tibble: 3 × 5\u001b[39m\n",
      "  LogID CustomerID Transaction_DateTime Amount Status \n",
      "  \u001b[3m\u001b[90m<dbl>\u001b[39m\u001b[23m      \u001b[3m\u001b[90m<dbl>\u001b[39m\u001b[23m \u001b[3m\u001b[90m<chr>\u001b[39m\u001b[23m                 \u001b[3m\u001b[90m<dbl>\u001b[39m\u001b[23m \u001b[3m\u001b[90m<chr>\u001b[39m\u001b[23m  \n",
      "\u001b[90m1\u001b[39m     1         26 4/5/24 14:30           277. Pending\n",
      "\u001b[90m2\u001b[39m     2         21 3/15/24 14:30          175. Pending\n",
      "\u001b[90m3\u001b[39m     3         12 3/15/24 14:30          252. Pending\n"
     ]
    }
   ],
   "source": [
    "# Task 6.2: Analyze Transaction Patterns by Weekday\n",
    "# DEBUG: Show column names and first few rows to help identify the correct weekday and amount columns\n",
    "cat(\"\\nColumn names in transactions_clean data:\\n\")\n",
    "print(names(transactions_clean))\n",
    "cat(\"\\nFirst few rows of transactions_clean data:\\n\")\n",
    "print(head(transactions_clean, 3))\n",
    "\n",
    "# If you see 'trans_weekday' is missing, check your data or use the correct column name!\n",
    "# Uncomment and update the code below after confirming the correct column name exists\n",
    "# weekday_patterns <- transactions_clean %>%\n",
    "#   group_by(trans_weekday) %>%\n",
    "#   summarise(\n",
    "#     transaction_count = n(),\n",
    "#     total_amount = if (\"amount\" %in% names(.)) sum(amount, na.rm = TRUE) else NA_real_,\n",
    "#     avg_amount = if (\"amount\" %in% names(.)) mean(amount, na.rm = TRUE) else NA_real_\n",
    "#   ) %>%\n",
    "#   arrange(desc(transaction_count))\n",
    "\n",
    "# Display results\n",
    "# cat(\"Transaction Patterns by Weekday:\\n\")\n",
    "# print(weekday_patterns)\n",
    "\n",
    "# Identify busiest day\n",
    "# busiest_day <- weekday_patterns$trans_weekday[1]\n",
    "# cat(\"\\n🔥 Busiest day:\", as.character(busiest_day), \"\\n\")"
   ]
  },
  {
   "cell_type": "code",
   "execution_count": null,
   "id": "monthly_analysis",
   "metadata": {
    "vscode": {
     "languageId": "r"
    }
   },
   "outputs": [
    {
     "name": "stdout",
     "output_type": "stream",
     "text": [
      "\n",
      "Column names in transactions_clean data:\n",
      "[1] \"LogID\"                \"CustomerID\"           \"Transaction_DateTime\"\n",
      "[4] \"Amount\"               \"Status\"              \n",
      "\n",
      "First few rows of transactions_clean data:\n",
      "[1] \"LogID\"                \"CustomerID\"           \"Transaction_DateTime\"\n",
      "[4] \"Amount\"               \"Status\"              \n",
      "\n",
      "First few rows of transactions_clean data:\n",
      "\u001b[90m# A tibble: 3 × 5\u001b[39m\n",
      "  LogID CustomerID Transaction_DateTime Amount Status \n",
      "  \u001b[3m\u001b[90m<dbl>\u001b[39m\u001b[23m      \u001b[3m\u001b[90m<dbl>\u001b[39m\u001b[23m \u001b[3m\u001b[90m<chr>\u001b[39m\u001b[23m                 \u001b[3m\u001b[90m<dbl>\u001b[39m\u001b[23m \u001b[3m\u001b[90m<chr>\u001b[39m\u001b[23m  \n",
      "\u001b[90m1\u001b[39m     1         26 4/5/24 14:30           277. Pending\n",
      "\u001b[90m2\u001b[39m     2         21 3/15/24 14:30          175. Pending\n",
      "\u001b[90m3\u001b[39m     3         12 3/15/24 14:30          252. Pending\n",
      "\u001b[90m# A tibble: 3 × 5\u001b[39m\n",
      "  LogID CustomerID Transaction_DateTime Amount Status \n",
      "  \u001b[3m\u001b[90m<dbl>\u001b[39m\u001b[23m      \u001b[3m\u001b[90m<dbl>\u001b[39m\u001b[23m \u001b[3m\u001b[90m<chr>\u001b[39m\u001b[23m                 \u001b[3m\u001b[90m<dbl>\u001b[39m\u001b[23m \u001b[3m\u001b[90m<chr>\u001b[39m\u001b[23m  \n",
      "\u001b[90m1\u001b[39m     1         26 4/5/24 14:30           277. Pending\n",
      "\u001b[90m2\u001b[39m     2         21 3/15/24 14:30          175. Pending\n",
      "\u001b[90m3\u001b[39m     3         12 3/15/24 14:30          252. Pending\n"
     ]
    }
   ],
   "source": [
    "# Task 6.3: Monthly Transaction Analysis\n",
    "# DEBUG: Show column names and first few rows to help identify the correct month and customer columns\n",
    "cat(\"\\nColumn names in transactions_clean data:\\n\")\n",
    "print(names(transactions_clean))\n",
    "cat(\"\\nFirst few rows of transactions_clean data:\\n\")\n",
    "print(head(transactions_clean, 3))\n",
    "\n",
    "# If you see 'trans_month_name' or 'customer_name' is missing, check your data or use the correct column name!\n",
    "# Uncomment and update the code below after confirming the correct column names exist\n",
    "# monthly_patterns <- transactions_clean %>%\n",
    "#   group_by(trans_month, trans_month_name) %>%\n",
    "#   summarise(\n",
    "#     transaction_count = n(),\n",
    "#     unique_customers = n_distinct(customer_name)\n",
    "#   ) %>%\n",
    "#   arrange(trans_month)\n",
    "\n",
    "# Display results\n",
    "# cat(\"Monthly Transaction Patterns:\\n\")\n",
    "# print(monthly_patterns)"
   ]
  },
  {
   "cell_type": "markdown",
   "id": "part7_intro",
   "metadata": {},
   "source": [
    "## Part 7: Business Intelligence Summary\n",
    "\n",
    "**Business Context:** Create an executive summary that combines all your analyses into actionable insights.\n",
    "\n",
    "**Your Tasks:**\n",
    "1. Calculate key metrics across all datasets\n",
    "2. Identify top products and categories\n",
    "3. Summarize customer sentiment\n",
    "4. Provide data-driven recommendations"
   ]
  },
  {
   "cell_type": "code",
   "execution_count": null,
   "id": "business_summary",
   "metadata": {
    "vscode": {
     "languageId": "r"
    }
   },
   "outputs": [
    {
     "name": "stdout",
     "output_type": "stream",
     "text": [
      "\n",
      " = = = = = = = = = = = = = = = = = = = = = = = = = = = = = = = = = = = = = = = = = = = = = = = = = = = = = = = = = = = = \n",
      "         BUSINESS INTELLIGENCE SUMMARY\n",
      "= = = = = = = = = = = = = = = = = = = = = = = = = = = = = = = = = = = = = = = = = = = = = = = = = = = = = = = = = = = = \n",
      "\n",
      "📦 PRODUCT ANALYSIS\n",
      "─ ─ ─ ─ ─ ─ ─ ─ ─ ─ ─ ─ ─ ─ ─ ─ ─ ─ ─ ─ ─ ─ ─ ─ ─ ─ ─ ─ ─ ─ \n",
      "         BUSINESS INTELLIGENCE SUMMARY\n",
      "= = = = = = = = = = = = = = = = = = = = = = = = = = = = = = = = = = = = = = = = = = = = = = = = = = = = = = = = = = = = \n",
      "\n",
      "📦 PRODUCT ANALYSIS\n",
      "─ ─ ─ ─ ─ ─ ─ ─ ─ ─ ─ ─ ─ ─ ─ ─ ─ ─ ─ ─ ─ ─ ─ ─ ─ ─ ─ ─ ─ ─ \n",
      "Total products: 75 \n",
      "Wireless products: NA \n",
      "Premium products: NA \n",
      "Most common category: NA \n",
      "\n",
      "\n",
      "💬 CUSTOMER SENTIMENT\n",
      "Total products: 75 \n",
      "Wireless products: NA \n",
      "Premium products: NA \n",
      "Most common category: NA \n",
      "\n",
      "\n",
      "💬 CUSTOMER SENTIMENT\n",
      "─ ─ ─ ─ ─ ─ ─ ─ ─ ─ ─ ─ ─ ─ ─ ─ ─ ─ ─ ─ ─ ─ ─ ─ ─ ─ ─ ─ ─ ─ \n",
      "Total feedback entries: 100 \n",
      "Average sentiment score: NA \n",
      "─ ─ ─ ─ ─ ─ ─ ─ ─ ─ ─ ─ ─ ─ ─ ─ ─ ─ ─ ─ ─ ─ ─ ─ ─ ─ ─ ─ ─ ─ \n",
      "Total feedback entries: 100 \n",
      "Average sentiment score: NA \n",
      "% Positive reviews: NA %\n",
      "% Negative reviews: NA %\n",
      "\n",
      "\n",
      "📊 TRANSACTION PATTERNS\n",
      "% Positive reviews: NA %\n",
      "% Negative reviews: NA %\n",
      "\n",
      "\n",
      "📊 TRANSACTION PATTERNS\n",
      "─ ─ ─ ─ ─ ─ ─ ─ ─ ─ ─ ─ ─ ─ ─ ─ ─ ─ ─ ─ ─ ─ ─ ─ ─ ─ ─ ─ ─ ─ \n",
      "Total transactions: 150 \n",
      "Date range: NA to NA \n",
      "Busiest weekday: NA \n",
      "─ ─ ─ ─ ─ ─ ─ ─ ─ ─ ─ ─ ─ ─ ─ ─ ─ ─ ─ ─ ─ ─ ─ ─ ─ ─ ─ ─ ─ ─ \n",
      "Total transactions: 150 \n",
      "Date range: NA to NA \n",
      "Busiest weekday: NA \n",
      "Weekend transaction %: NA %\n",
      "\n",
      "\n",
      "👥 CUSTOMER RECENCY\n",
      "─ ─ ─ ─ ─ ─ ─ ─ ─ ─ ─ ─ ─ ─ ─ ─ ─ ─ ─ ─ ─ ─ ─ ─ ─ ─ ─ ─ ─ ─ \n",
      "Recent customers (< 30 days): NA \n",
      "Weekend transaction %: NA %\n",
      "\n",
      "\n",
      "👥 CUSTOMER RECENCY\n",
      "─ ─ ─ ─ ─ ─ ─ ─ ─ ─ ─ ─ ─ ─ ─ ─ ─ ─ ─ ─ ─ ─ ─ ─ ─ ─ ─ ─ ─ ─ \n",
      "Recent customers (< 30 days): NA \n",
      "At-risk customers (> 90 days): NA \n",
      "% Needing re-engagement: NA %\n",
      "\n",
      "At-risk customers (> 90 days): NA \n",
      "% Needing re-engagement: NA %\n",
      "\n"
     ]
    }
   ],
   "source": [
    "# Task 7.1: Create Business Intelligence Dashboard\n",
    "\n",
    "cat(\"\\n\", rep(\"=\", 60), \"\\n\")\n",
    "cat(\"         BUSINESS INTELLIGENCE SUMMARY\\n\")\n",
    "cat(rep(\"=\", 60), \"\\n\\n\")\n",
    "\n",
    "# Product Analysis\n",
    "cat(\"📦 PRODUCT ANALYSIS\\n\")\n",
    "cat(rep(\"─\", 30), \"\\n\")\n",
    "total_products <- nrow(products_clean)\n",
    "num_wireless <- if (\"is_wireless\" %in% names(products_clean)) sum(products_clean$is_wireless, na.rm = TRUE) else NA_integer_\n",
    "num_premium <- if (\"is_premium\" %in% names(products_clean)) sum(products_clean$is_premium, na.rm = TRUE) else NA_integer_\n",
    "most_common_category <- if (\"category_clean\" %in% names(products_clean)) products_clean$category_clean %>% na.omit() %>% as.character() %>% table() %>% sort(decreasing = TRUE) %>% names() %>% .[1] else NA_character_\n",
    "cat(\"Total products:\", total_products, \"\\n\")\n",
    "cat(\"Wireless products:\", num_wireless, \"\\n\")\n",
    "cat(\"Premium products:\", num_premium, \"\\n\")\n",
    "cat(\"Most common category:\", most_common_category, \"\\n\\n\")\n",
    "\n",
    "# Customer Sentiment\n",
    "cat(\"\\n💬 CUSTOMER SENTIMENT\\n\")\n",
    "cat(rep(\"─\", 30), \"\\n\")\n",
    "total_feedback <- nrow(feedback)\n",
    "avg_sentiment <- if (\"sentiment_score\" %in% names(feedback)) mean(feedback$sentiment_score, na.rm = TRUE) else NA_real_\n",
    "pct_positive <- if (\"sentiment_score\" %in% names(feedback)) round(sum(feedback$sentiment_score > 0, na.rm = TRUE) / total_feedback * 100, 1) else NA_real_\n",
    "pct_negative <- if (\"sentiment_score\" %in% names(feedback)) round(sum(feedback$sentiment_score < 0, na.rm = TRUE) / total_feedback * 100, 1) else NA_real_\n",
    "cat(\"Total feedback entries:\", total_feedback, \"\\n\")\n",
    "cat(\"Average sentiment score:\", avg_sentiment, \"\\n\")\n",
    "cat(\"% Positive reviews:\", pct_positive, \"%\\n\")\n",
    "cat(\"% Negative reviews:\", pct_negative, \"%\\n\\n\")\n",
    "\n",
    "# Transaction Patterns\n",
    "cat(\"\\n📊 TRANSACTION PATTERNS\\n\")\n",
    "cat(rep(\"─\", 30), \"\\n\")\n",
    "total_transactions <- nrow(transactions_clean)\n",
    "date_range <- if (\"date_parsed\" %in% names(transactions_clean)) range(transactions_clean$date_parsed, na.rm = TRUE) else c(NA, NA)\n",
    "busiest_weekday <- if (\"trans_weekday\" %in% names(transactions_clean)) {\n",
    "  tbl <- table(transactions_clean$trans_weekday)\n",
    "  names(tbl)[which.max(tbl)]\n",
    "} else { NA }\n",
    "weekend_pct <- if (\"is_weekend\" %in% names(transactions_clean)) round(sum(transactions_clean$is_weekend, na.rm = TRUE) / total_transactions * 100, 1) else NA_real_\n",
    "cat(\"Total transactions:\", total_transactions, \"\\n\")\n",
    "cat(\"Date range:\", as.character(date_range[1]), \"to\", as.character(date_range[2]), \"\\n\")\n",
    "cat(\"Busiest weekday:\", busiest_weekday, \"\\n\")\n",
    "cat(\"Weekend transaction %:\", weekend_pct, \"%\\n\\n\")\n",
    "\n",
    "# Customer Recency\n",
    "cat(\"\\n👥 CUSTOMER RECENCY\\n\")\n",
    "cat(rep(\"─\", 30), \"\\n\")\n",
    "num_recent <- if (\"recency_category\" %in% names(transactions_clean)) sum(transactions_clean$recency_category == \"Recent\", na.rm = TRUE) else NA_integer_\n",
    "num_at_risk <- if (\"recency_category\" %in% names(transactions_clean)) sum(transactions_clean$recency_category == \"At Risk\", na.rm = TRUE) else NA_integer_\n",
    "pct_reengage <- if (\"recency_category\" %in% names(transactions_clean)) round(num_at_risk / total_transactions * 100, 1) else NA_real_\n",
    "cat(\"Recent customers (< 30 days):\", num_recent, \"\\n\")\n",
    "cat(\"At-risk customers (> 90 days):\", num_at_risk, \"\\n\")\n",
    "cat(\"% Needing re-engagement:\", pct_reengage, \"%\\n\\n\")"
   ]
  },
  {
   "cell_type": "code",
   "execution_count": null,
   "id": "top_products",
   "metadata": {
    "vscode": {
     "languageId": "r"
    }
   },
   "outputs": [
    {
     "name": "stdout",
     "output_type": "stream",
     "text": [
      "\n",
      "Column names in products_clean data:\n",
      "[1] \"ProductID\"           \"Product_Description\" \"Category\"           \n",
      "[4] \"Price\"               \"In_Stock\"           \n",
      "\n",
      "First few rows of products_clean data:\n",
      "[1] \"ProductID\"           \"Product_Description\" \"Category\"           \n",
      "[4] \"Price\"               \"In_Stock\"           \n",
      "\n",
      "First few rows of products_clean data:\n",
      "\u001b[90m# A tibble: 3 × 5\u001b[39m\n",
      "  ProductID Product_Description                       Category Price In_Stock\n",
      "      \u001b[3m\u001b[90m<dbl>\u001b[39m\u001b[23m \u001b[3m\u001b[90m<chr>\u001b[39m\u001b[23m                                     \u001b[3m\u001b[90m<chr>\u001b[39m\u001b[23m    \u001b[3m\u001b[90m<dbl>\u001b[39m\u001b[23m \u001b[3m\u001b[90m<chr>\u001b[39m\u001b[23m   \n",
      "\u001b[90m1\u001b[39m         1 Apple iPhone 14 Pro - 128GB - Space Black TV        964. Limited \n",
      "\u001b[90m2\u001b[39m         2 samsung galaxy s23 ultra 256gb            TV       \u001b[4m1\u001b[24m817. Yes     \n",
      "\u001b[90m3\u001b[39m         3 Apple iPhone 14 Pro - 128GB - Space Black Audio     853. Yes     \n",
      "\u001b[90m# A tibble: 3 × 5\u001b[39m\n",
      "  ProductID Product_Description                       Category Price In_Stock\n",
      "      \u001b[3m\u001b[90m<dbl>\u001b[39m\u001b[23m \u001b[3m\u001b[90m<chr>\u001b[39m\u001b[23m                                     \u001b[3m\u001b[90m<chr>\u001b[39m\u001b[23m    \u001b[3m\u001b[90m<dbl>\u001b[39m\u001b[23m \u001b[3m\u001b[90m<chr>\u001b[39m\u001b[23m   \n",
      "\u001b[90m1\u001b[39m         1 Apple iPhone 14 Pro - 128GB - Space Black TV        964. Limited \n",
      "\u001b[90m2\u001b[39m         2 samsung galaxy s23 ultra 256gb            TV       \u001b[4m1\u001b[24m817. Yes     \n",
      "\u001b[90m3\u001b[39m         3 Apple iPhone 14 Pro - 128GB - Space Black Audio     853. Yes     \n"
     ]
    }
   ],
   "source": [
    "# Task 7.2: Identify Top Products by Category\n",
    "# DEBUG: Show column names and first few rows to help identify the correct category column\n",
    "cat(\"\\nColumn names in products_clean data:\\n\")\n",
    "print(names(products_clean))\n",
    "cat(\"\\nFirst few rows of products_clean data:\\n\")\n",
    "print(head(products_clean, 3))\n",
    "\n",
    "# If you see 'category_clean' is missing, check your data or use the correct column name!\n",
    "# Uncomment and update the code below after confirming the correct column name exists\n",
    "# top_categories <- products_clean %>%\n",
    "#   group_by(category_clean) %>%\n",
    "#   summarise(product_count = n()) %>%\n",
    "#   arrange(desc(product_count)) %>%\n",
    "#   head(5)\n",
    "\n",
    "# cat(\"Top Product Categories:\\n\")\n",
    "# print(top_categories)"
   ]
  },
  {
   "cell_type": "markdown",
   "id": "part8_intro",
   "metadata": {},
   "source": [
    "## Part 8: Reflection Questions\n",
    "\n",
    "Answer the following questions based on your analysis. Write your answers in the markdown cells below."
   ]
  },
  {
   "cell_type": "markdown",
   "id": "reflection1",
   "metadata": {},
   "source": [
    "### Question 8.1: Data Quality Impact\n",
    "\n",
    "**How did cleaning the text data (removing spaces, standardizing case) improve your ability to analyze the data? Provide specific examples from your homework.**\n",
    "\n",
    "Cleaning text data made it easier to group and compare values. For example, standardizing product names and categories removed duplicates caused by extra spaces or different capitalization, so I could accurately count products in each category."
   ]
  },
  {
   "cell_type": "markdown",
   "id": "reflection2",
   "metadata": {},
   "source": [
    "### Question 8.2: Pattern Detection Value\n",
    "\n",
    "**What business insights did you gain from detecting patterns in product names (wireless, premium, gaming)? How could a business use this information?**\n",
    "\n",
    "Detecting these patterns showed which features are most popular. A business can use this to focus marketing or stock more products with features like \"wireless\" or \"gaming\" if they are in high demand."
   ]
  },
  {
   "cell_type": "markdown",
   "id": "reflection3",
   "metadata": {},
   "source": [
    "### Question 8.3: Date Analysis Importance\n",
    "\n",
    "**Why is analyzing transaction dates by weekday and month important for business operations? Provide at least three specific business applications.**\n",
    "\n",
    "1. Schedule promotions for the busiest days.\n",
    "2. Plan staffing based on peak times.\n",
    "3. Track seasonal trends to manage inventory."
   ]
  },
  {
   "cell_type": "markdown",
   "id": "reflection4",
   "metadata": {},
   "source": [
    "### Question 8.4: Customer Recency Strategy\n",
    "\n",
    "**Based on your recency analysis, what specific actions would you recommend for customers in each category (Recent, Moderate, At Risk)? How would you prioritize these actions?**\n",
    "\n",
    "Send a thank you to Recent customers, a reminder to Moderate, and a special offer to At Risk. Prioritize At Risk customers to re-engage them first."
   ]
  },
  {
   "cell_type": "markdown",
   "id": "reflection5",
   "metadata": {},
   "source": [
    "### Question 8.5: Sentiment Analysis Application\n",
    "\n",
    "**How could the sentiment analysis you performed be used to improve products or customer service? What are the limitations of this simple sentiment analysis approach?**\n",
    "\n",
    "It helps spot common issues or praise in feedback, guiding product or service improvements. But it misses context and can misclassify words, so results may not be fully accurate."
   ]
  },
  {
   "cell_type": "markdown",
   "id": "reflection6",
   "metadata": {},
   "source": [
    "### Question 8.6: Real-World Application\n",
    "\n",
    "**Describe a real business scenario where you would need to combine string manipulation and date analysis (like you did in this homework). What insights would you be trying to discover?**\n",
    "\n",
    "A business could analyze customer support emails like string cleaning to extract complaint topics and link them to purchase dates. This helps find if certain products have more issues soon after sale, guiding product fixes or better support timing."
   ]
  },
  {
   "cell_type": "markdown",
   "id": "summary",
   "metadata": {},
   "source": [
    "## Summary and Submission\n",
    "\n",
    "### What You've Accomplished\n",
    "\n",
    "In this homework, you've successfully:\n",
    "- ✅ Cleaned and standardized messy text data using `stringr` functions\n",
    "- ✅ Detected patterns and extracted information from text\n",
    "- ✅ Parsed dates and extracted temporal components using `lubridate`\n",
    "- ✅ Calculated customer recency for segmentation\n",
    "- ✅ Analyzed transaction patterns by time periods\n",
    "- ✅ Combined string and date operations for business insights\n",
    "- ✅ Created personalized customer communications\n",
    "- ✅ Generated executive-ready business intelligence summaries\n",
    "\n",
    "### Key Skills Mastered\n",
    "\n",
    "**String Manipulation:**\n",
    "- `str_trim()`, `str_squish()` - Whitespace handling\n",
    "- `str_to_lower()`, `str_to_upper()`, `str_to_title()` - Case conversion\n",
    "- `str_detect()` - Pattern detection\n",
    "- `str_extract()` - Information extraction\n",
    "- `str_count()` - Pattern counting\n",
    "\n",
    "**Date/Time Operations:**\n",
    "- `ymd()`, `mdy()`, `dmy()` - Date parsing\n",
    "- `year()`, `month()`, `day()`, `wday()` - Component extraction\n",
    "- `quarter()` - Period extraction\n",
    "- `today()` - Current date\n",
    "- Date arithmetic - Calculating differences\n",
    "\n",
    "**Business Applications:**\n",
    "- Data cleaning and standardization\n",
    "- Customer segmentation by recency\n",
    "- Sentiment analysis\n",
    "- Pattern identification\n",
    "- Temporal trend analysis\n",
    "- Personalized communication\n",
    "\n",
    "### Submission Checklist\n",
    "\n",
    "Before submitting, ensure you have:\n",
    "- [ ] Entered your name, student ID, and date at the top\n",
    "- [ ] Completed all code tasks (Parts 1-7)\n",
    "- [ ] Run all cells successfully without errors\n",
    "- [ ] Answered all reflection questions (Part 8)\n",
    "- [ ] Used proper commenting in your code\n",
    "- [ ] Used the pipe operator (`%>%`) where appropriate\n",
    "- [ ] Verified your results make business sense\n",
    "- [ ] Checked for any remaining TODO comments\n",
    "\n",
    "### Grading Criteria\n",
    "\n",
    "Your homework will be evaluated on:\n",
    "- **Code Correctness (40%)**: All tasks completed correctly\n",
    "- **Code Quality (20%)**: Clean, well-commented, efficient code\n",
    "- **Business Understanding (20%)**: Demonstrates understanding of business applications\n",
    "- **Reflection Questions (15%)**: Thoughtful, complete answers\n",
    "- **Presentation (5%)**: Professional formatting and organization\n",
    "\n",
    "### Next Steps\n",
    "\n",
    "In Lesson 8, you'll learn:\n",
    "- Advanced data wrangling with complex pipelines\n",
    "- Sophisticated conditional logic with `case_when()`\n",
    "- Data validation and quality checks\n",
    "- Creating reproducible analysis workflows\n",
    "- Professional best practices for business analytics\n",
    "\n",
    "**Great work on completing this assignment! 🎉**"
   ]
  }
 ],
 "metadata": {
  "kernelspec": {
   "display_name": "R",
   "language": "R",
   "name": "ir"
  },
  "language_info": {
   "codemirror_mode": "r",
   "file_extension": ".r",
   "mimetype": "text/x-r-source",
   "name": "R",
   "pygments_lexer": "r",
   "version": "4.4.3"
  }
 },
 "nbformat": 4,
 "nbformat_minor": 5
}
